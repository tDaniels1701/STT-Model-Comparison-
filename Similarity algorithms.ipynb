{
 "cells": [
  {
   "cell_type": "code",
   "execution_count": 3,
   "id": "aac313bd",
   "metadata": {},
   "outputs": [
    {
     "name": "stdout",
     "output_type": "stream",
     "text": [
      "[[1 1 1 0 1 1 1 0]\n",
      " [1 1 1 1 1 0 0 1]\n",
      " [0 1 0 1 0 0 1 1]\n",
      " [1 0 0 1 0 1 1 1]]\n",
      "firechicken-mike0702 0.5\n",
      "firechicken-zephyros 0.25\n",
      "firechicken-dadvador 0.375\n",
      "mike0702-zephyros 0.42857142857142855\n",
      "mike0702-dadvador 0.375\n",
      "zephyros-dadvador 0.5\n",
      "[[1.         0.5        0.25       0.375     ]\n",
      " [0.5        1.         0.42857143 0.375     ]\n",
      " [0.25       0.42857143 1.         0.5       ]\n",
      " [0.375      0.375      0.5        1.        ]]\n"
     ]
    }
   ],
   "source": [
    "import numpy as np\n",
    "ratings = np.array([[3, 3, 4, 0, 4, 2, 3, 0],\n",
    "                    [3, 5, 4, 3, 3, 0, 0, 4],\n",
    "                    [0, 4, 0, 5, 0, 0, 2, 1],\n",
    "                    [2, 0, 0, 4, 0, 4, 4, 5]])\n",
    "Ub = (ratings>0).astype(int)\n",
    "print(Ub)\n",
    "\n",
    "def jaccard(a,b):\n",
    "    return (a*b).sum()/((a+b)>0).sum()\n",
    "\n",
    "users = [\"firechicken\",\"mike0702\",\"zephyros\",\"dadvador\"]\n",
    "\n",
    "simmat=np.zeros((4,4))\n",
    "for i in range(4):\n",
    "    for j in range(4):\n",
    "        simmat[i,j] = jaccard(Ub[i],Ub[j])\n",
    "        if i<j:\n",
    "            print(users[i]+'-'+users[j], jaccard(Ub[i],Ub[j]))\n",
    "\n",
    "print(simmat)"
   ]
  },
  {
   "cell_type": "code",
   "execution_count": 4,
   "id": "1d35d295",
   "metadata": {},
   "outputs": [
    {
     "name": "stdout",
     "output_type": "stream",
     "text": [
      "firechicken-mike0702 0.6666666666666667\n",
      "firechicken-zephyros 0.4082482904638631\n",
      "firechicken-dadvador 0.5477225575051661\n",
      "mike0702-zephyros 0.6123724356957946\n",
      "mike0702-dadvador 0.5477225575051661\n",
      "zephyros-dadvador 0.6708203932499369\n",
      "[[1.         0.66666667 0.40824829 0.54772256]\n",
      " [0.66666667 1.         0.61237244 0.54772256]\n",
      " [0.40824829 0.61237244 1.         0.67082039]\n",
      " [0.54772256 0.54772256 0.67082039 1.        ]]\n"
     ]
    }
   ],
   "source": [
    "def cos(a,b):\n",
    "    return np.dot(a,b)/(np.linalg.norm(a)*np.linalg.norm(b))\n",
    "\n",
    "simmat=np.zeros((4,4))\n",
    "for i in range(4):\n",
    "    for j in range(4):\n",
    "        simmat[i,j] = cos(Ub[i],Ub[j])\n",
    "        if i<j:\n",
    "            print(users[i]+'-'+users[j], cos(Ub[i],Ub[j]))\n",
    "print(simmat)   "
   ]
  },
  {
   "cell_type": "code",
   "execution_count": 5,
   "id": "4c4d7e0b",
   "metadata": {},
   "outputs": [
    {
     "name": "stdout",
     "output_type": "stream",
     "text": [
      "[[1 1 1 0 1 0 1 0]\n",
      " [1 1 1 1 1 0 0 1]\n",
      " [0 1 0 1 0 0 0 0]\n",
      " [0 0 0 1 0 1 1 1]]\n",
      "firechicken-mike0702 0.5714285714285714\n",
      "firechicken-zephyros 0.16666666666666666\n",
      "firechicken-dadvador 0.125\n",
      "mike0702-zephyros 0.3333333333333333\n",
      "mike0702-dadvador 0.25\n",
      "zephyros-dadvador 0.2\n"
     ]
    }
   ],
   "source": [
    "Ur = (ratings>=3).astype(int)\n",
    "print(Ur)\n",
    "\n",
    "simmat=np.zeros((4,4))\n",
    "for i in range(4):\n",
    "    for j in range(4):\n",
    "        simmat[i,j] = jaccard(Ur[i],Ur[j])\n",
    "        if i<j:\n",
    "            print(users[i]+'-'+users[j], jaccard(Ur[i],Ur[j]))"
   ]
  }
 ],
 "metadata": {
  "kernelspec": {
   "display_name": "Python 3 (ipykernel)",
   "language": "python",
   "name": "python3"
  },
  "language_info": {
   "codemirror_mode": {
    "name": "ipython",
    "version": 3
   },
   "file_extension": ".py",
   "mimetype": "text/x-python",
   "name": "python",
   "nbconvert_exporter": "python",
   "pygments_lexer": "ipython3",
   "version": "3.9.13"
  }
 },
 "nbformat": 4,
 "nbformat_minor": 5
}
